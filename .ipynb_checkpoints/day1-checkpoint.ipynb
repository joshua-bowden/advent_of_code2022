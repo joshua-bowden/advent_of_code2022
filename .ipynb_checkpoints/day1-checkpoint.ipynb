{
 "cells": [
  {
   "cell_type": "code",
   "execution_count": 2,
   "id": "ffed2679",
   "metadata": {},
   "outputs": [],
   "source": [
    "#advent of code day 1 - calories elves"
   ]
  },
  {
   "cell_type": "code",
   "execution_count": 3,
   "id": "61c6314c",
   "metadata": {},
   "outputs": [],
   "source": [
    "with open('day1_input.txt') as f:\n",
    "    temp = f.read().splitlines()    "
   ]
  },
  {
   "cell_type": "code",
   "execution_count": 4,
   "id": "f2ade4ba",
   "metadata": {},
   "outputs": [
    {
     "data": {
      "text/plain": [
       "72478"
      ]
     },
     "execution_count": 4,
     "metadata": {},
     "output_type": "execute_result"
    }
   ],
   "source": [
    "#part 1\n",
    "\n",
    "pastSum = 0\n",
    "currentSum = 0\n",
    "for x in range(len(temp)):\n",
    "    if temp[x] != \"\":\n",
    "        currentSum  += int(temp[x])\n",
    "    else: \n",
    "        pastSum = max(pastSum, currentSum)\n",
    "        currentSum = 0\n",
    "#pastSum is greatest collection of unbroken lines = elf with most calories\n",
    "pastSum"
   ]
  },
  {
   "cell_type": "code",
   "execution_count": 15,
   "id": "2371d629",
   "metadata": {},
   "outputs": [
    {
     "name": "stdout",
     "output_type": "stream",
     "text": [
      "210367\n"
     ]
    }
   ],
   "source": [
    "#part 2\n",
    "top1 = 0\n",
    "top2 = 0\n",
    "top3 = 0\n",
    "currentSum = 0\n",
    "for x in range(len(temp)):\n",
    "    if temp[x] != \"\":\n",
    "        currentSum  += int(temp[x])\n",
    "    else:\n",
    "        if currentSum > top1:\n",
    "            #shuffle down\n",
    "            top3 = top2\n",
    "            top2 = top1\n",
    "            top1 = currentSum\n",
    "            currentSum = 0 \n",
    "        elif currentSum > top2:\n",
    "            top3 = top2\n",
    "            top2 = currentSum\n",
    "            currentSum = 0\n",
    "        elif currentSum > top3:\n",
    "            top3 = currentSum\n",
    "            currentSum = 0\n",
    "        else:\n",
    "            currentSum = 0\n",
    "\n",
    "print(top1+top2+top3)"
   ]
  }
 ],
 "metadata": {
  "kernelspec": {
   "display_name": "Python 3 (ipykernel)",
   "language": "python",
   "name": "python3"
  },
  "language_info": {
   "codemirror_mode": {
    "name": "ipython",
    "version": 3
   },
   "file_extension": ".py",
   "mimetype": "text/x-python",
   "name": "python",
   "nbconvert_exporter": "python",
   "pygments_lexer": "ipython3",
   "version": "3.10.6"
  }
 },
 "nbformat": 4,
 "nbformat_minor": 5
}

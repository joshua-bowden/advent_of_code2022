{
 "cells": [
  {
   "cell_type": "code",
   "execution_count": 3,
   "id": "ffed2679",
   "metadata": {},
   "outputs": [],
   "source": [
    "#advent of code day 1 - calories elves"
   ]
  },
  {
   "cell_type": "code",
   "execution_count": 22,
   "id": "61c6314c",
   "metadata": {},
   "outputs": [],
   "source": [
    "with open('day1_input.txt') as f:\n",
    "    temp = f.read().splitlines()    "
   ]
  },
  {
   "cell_type": "code",
   "execution_count": 44,
   "id": "f2ade4ba",
   "metadata": {},
   "outputs": [
    {
     "data": {
      "text/plain": [
       "72478"
      ]
     },
     "execution_count": 44,
     "metadata": {},
     "output_type": "execute_result"
    }
   ],
   "source": [
    "pastSum = 0\n",
    "currentSum = 0\n",
    "for x in range(len(temp)):\n",
    "    if temp[x] != \"\":\n",
    "        currentSum  += int(temp[x])\n",
    "    else: \n",
    "        pastSum = max(pastSum, currentSum)\n",
    "        currentSum = 0\n",
    "#pastSum is greatest collection of unbroken lines = elf with most calories\n",
    "pastSum"
   ]
  }
 ],
 "metadata": {
  "kernelspec": {
   "display_name": "Python 3 (ipykernel)",
   "language": "python",
   "name": "python3"
  },
  "language_info": {
   "codemirror_mode": {
    "name": "ipython",
    "version": 3
   },
   "file_extension": ".py",
   "mimetype": "text/x-python",
   "name": "python",
   "nbconvert_exporter": "python",
   "pygments_lexer": "ipython3",
   "version": "3.10.6"
  }
 },
 "nbformat": 4,
 "nbformat_minor": 5
}
